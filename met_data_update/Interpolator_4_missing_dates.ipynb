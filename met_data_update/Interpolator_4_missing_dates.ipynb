{
 "cells": [
  {
   "cell_type": "code",
   "execution_count": 125,
   "metadata": {},
   "outputs": [],
   "source": [
    "import pandas as pd\n",
    "import numpy as np\n",
    "import matplotlib.pyplot as plt"
   ]
  },
  {
   "cell_type": "code",
   "execution_count": 126,
   "metadata": {},
   "outputs": [
    {
     "name": "stdout",
     "output_type": "stream",
     "text": [
      "Index(['DATE TIME', 'Temp_F'], dtype='object')\n",
      "(10679, 2)\n"
     ]
    }
   ],
   "source": [
    "p_in = pd.read_csv('hourly/atmospheric_pressure_hourly.csv')\n",
    "date_df = pd.read_csv('hourly/air_temp_avg_hourly.csv')\n",
    "print(date_df.columns)\n",
    "print(p_in.shape)"
   ]
  },
  {
   "cell_type": "code",
   "execution_count": 127,
   "metadata": {},
   "outputs": [],
   "source": [
    "dates_missing_from_p_in = date_df[~date_df['DATE TIME'].isin(p_in['DATE TIME'])]\n",
    "#pirint(dates_missing_from_p_in)"
   ]
  },
  {
   "cell_type": "code",
   "execution_count": 128,
   "metadata": {},
   "outputs": [],
   "source": [
    "pp_in = p_in \n"
   ]
  },
  {
   "cell_type": "code",
   "execution_count": 129,
   "metadata": {},
   "outputs": [
    {
     "name": "stderr",
     "output_type": "stream",
     "text": [
      "/tmp/ipykernel_11499/3558065387.py:8: FutureWarning: The behavior of DataFrame concatenation with empty or all-NA entries is deprecated. In a future version, this will no longer exclude empty or all-NA columns when determining the result dtypes. To retain the old behavior, exclude the relevant entries before the concat operation.\n",
      "  pp_in = pd.concat([pp_in, missing_dates_df])\n"
     ]
    }
   ],
   "source": [
    "# Step 3: Create a new DataFrame with the missing dates\n",
    "missing_dates_df = pd.DataFrame(dates_missing_from_p_in, columns=['DATE TIME'])\n",
    "\n",
    "# Add an empty 'Pressure_In' column\n",
    "missing_dates_df['Pressure_In'] = None\n",
    "\n",
    "# Step 4: Concatenate p_in and missing_dates_df\n",
    "pp_in = pd.concat([pp_in, missing_dates_df])\n",
    "\n",
    "# Convert 'DATE TIME' to datetime if it's not already\n",
    "pp_in['DATE TIME'] = pd.to_datetime(pp_in['DATE TIME'])\n",
    "\n",
    "# Set 'DATE TIME' as the index\n",
    "pp_in.set_index('DATE TIME', inplace=True)\n",
    "\n",
    "# Sort the DataFrame by year\n",
    "pp_in.sort_index(inplace=True)\n",
    "\n",
    "#pp_in.to_csv('hourly/test_press.csv', index=True)\n"
   ]
  },
  {
   "cell_type": "code",
   "execution_count": 130,
   "metadata": {},
   "outputs": [
    {
     "name": "stdout",
     "output_type": "stream",
     "text": [
      "            DATE TIME  Pressure_In\n",
      "0 2022-07-12 00:00:00        29.10\n",
      "1 2022-07-12 01:00:00        29.09\n",
      "2 2022-07-12 02:00:00        29.09\n",
      "3 2022-07-12 03:00:00        29.09\n",
      "4 2022-07-12 04:00:00        29.09\n",
      "5 2022-07-12 05:00:00        29.09\n",
      "6 2022-07-12 06:00:00        29.10\n",
      "7 2022-07-12 07:00:00        29.11\n",
      "8 2022-07-12 08:00:00        29.12\n",
      "9 2022-07-12 09:00:00        29.13\n"
     ]
    }
   ],
   "source": [
    "pp_in.reset_index(drop=False, inplace=True)\n",
    "print(pp_in.head(10))"
   ]
  },
  {
   "cell_type": "code",
   "execution_count": 131,
   "metadata": {},
   "outputs": [
    {
     "name": "stdout",
     "output_type": "stream",
     "text": [
      "              DATE TIME  Temp_F\n",
      "0      07/12/2022 00:00    87.0\n",
      "1      07/12/2022 01:00    84.0\n",
      "2      07/12/2022 02:00    80.0\n",
      "3      07/12/2022 03:00    80.0\n",
      "4      07/12/2022 04:00    78.0\n",
      "...                 ...     ...\n",
      "10699  09/30/2023 20:00    64.0\n",
      "10700  09/30/2023 21:00    60.0\n",
      "10701  09/30/2023 22:00    58.0\n",
      "10702  09/30/2023 23:00    56.0\n",
      "10703  10/01/2023 00:00    56.0\n",
      "\n",
      "[10704 rows x 2 columns]\n"
     ]
    }
   ],
   "source": [
    "dates_missing_from_pp_in = date_df[~date_df['DATE TIME'].isin(pp_in['DATE TIME'])]\n",
    "print(dates_missing_from_pp_in)"
   ]
  },
  {
   "cell_type": "code",
   "execution_count": 132,
   "metadata": {},
   "outputs": [],
   "source": [
    "# Convert 'Pressure_In' to numeric\n",
    "pp_in['Pressure_In'] = pd.to_numeric(pp_in['Pressure_In'], errors='coerce')\n",
    "\n",
    "# Now you can interpolate\n",
    "pp_in['Pressure_In'].interpolate(method='linear', inplace=True)\n",
    "#pp_in['Pressure_In'].interpolate(method='spline', order=3, inplace=True)\n",
    "#pp_in['Pressure_In'].interpolate(method='polycinomial', order=2, inplace=True)\n"
   ]
  },
  {
   "cell_type": "code",
   "execution_count": 133,
   "metadata": {},
   "outputs": [
    {
     "name": "stdout",
     "output_type": "stream",
     "text": [
      "0\n"
     ]
    }
   ],
   "source": [
    "num_missing_values = pp_in['Pressure_In'].isnull().sum()\n",
    "print(num_missing_values)"
   ]
  },
  {
   "cell_type": "code",
   "execution_count": 134,
   "metadata": {},
   "outputs": [],
   "source": [
    "pp_in.to_csv('hourly/INTERPOLATED_atmospheric_pressure_hourly.csv', index=False)"
   ]
  }
 ],
 "metadata": {
  "kernelspec": {
   "display_name": "venv_CEQUAL",
   "language": "python",
   "name": "python3"
  },
  "language_info": {
   "codemirror_mode": {
    "name": "ipython",
    "version": 3
   },
   "file_extension": ".py",
   "mimetype": "text/x-python",
   "name": "python",
   "nbconvert_exporter": "python",
   "pygments_lexer": "ipython3",
   "version": "3.11.2"
  }
 },
 "nbformat": 4,
 "nbformat_minor": 2
}
